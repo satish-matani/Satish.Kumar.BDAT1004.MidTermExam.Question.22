{
 "cells": [
  {
   "cell_type": "markdown",
   "id": "1a6fba29",
   "metadata": {},
   "source": [
    "# Question 22\n",
    "\n",
    "\n",
    "In a jupyter notebook solve the following question using both python and SQL. Please upload the notebook to GitHub and provide the link submission box below.</br>\n",
    "\n",
    "\n",
    "\n",
    "+---------------+---------+\n",
    "| Column Name   | Type    |\n",
    "+---------------+---------+\n",
    "| id            | int     |\n",
    "| recordDate    | date    |\n",
    "| temperature   | int     |\n",
    "+---------------+---------+</br>\n",
    "id is the column with unique values for this table.</br>\n",
    "This table contains information about the temperature on a certain day.</br></br>\n",
    " \n",
    " \n",
    "\n",
    "Write a solution to find all dates' Id with higher temperatures compared to its previous dates (yesterday).</br>\n",
    "</br>\n",
    "Return the result table in any order.</br>\n",
    "</br>\n",
    "Please use the following input Weather table for your solution. To receive full marks you will need to create the database, create the table, insert the data below and execute the SQL query.</br>\n",
    "\n",
    " \n",
    "</br></br>\n",
    "Input: </br>\n",
    "Weather table:</br></br>\n",
    "+----+------------+-------------+\n",
    "| id | recordDate | temperature |\n",
    "+----+------------+-------------+\n",
    "| 1  | 2015-01-01 | 10          |\n",
    "| 2  | 2015-01-02 | 25          |\n",
    "| 3  | 2015-01-03 | 20          |\n",
    "| 4  | 2015-01-04 | 30          |\n",
    "+----+------------+-------------+</br>\n",
    "Output: </br></br>\n",
    "+----+\n",
    "| id |\n",
    "+----+\n",
    "| 2  |\n",
    "| 4  |\n",
    "+----+</br></br>\n",
    "Explanation: </br></br>\n",
    "In 2015-01-02, the temperature was higher than the previous day (10 -> 25).\n",
    "In 2015-01-04, the temperature was higher than the previous day (20 -> 30)."
   ]
  },
  {
   "cell_type": "code",
   "execution_count": 8,
   "id": "19f70db5",
   "metadata": {},
   "outputs": [
    {
     "name": "stdout",
     "output_type": "stream",
     "text": [
      "ID: 2\n",
      "ID: 4\n"
     ]
    }
   ],
   "source": [
    "import sqlite3\n",
    "\n",
    "# Creating SQLite database temperature_data and Weather table\n",
    "conn = sqlite3.connect('temperature_data.db')\n",
    "cur = conn.cursor()\n",
    "\n",
    "# Creating the table\n",
    "cur.execute('''\n",
    "    CREATE TABLE Weather (\n",
    "        id INT,\n",
    "        recordDate DATE,\n",
    "        temperature INT\n",
    "    )\n",
    "''')\n",
    "\n",
    "# Inserting values into the Weather Table\n",
    "cur.execute('''\n",
    "INSERT INTO Weather (id, recordDate, temperature) VALUES\n",
    "(1, '2015-01-01', 10),\n",
    "(2, '2015-01-02', 25),\n",
    "(3, '2015-01-03', 20),\n",
    "(4,'2015-01-04' , 30)\n",
    "''')\n",
    "\n",
    "\n",
    "# Execute the SQL query to get thre required result\n",
    "query = '''\n",
    "    SELECT w1.id\n",
    "    FROM Weather w1\n",
    "    JOIN Weather w2 ON w1.recordDate = DATE(w2.recordDate, '+1 day')\n",
    "                   AND w1.temperature > w2.temperature\n",
    "'''\n",
    "\n",
    "result = cur.execute(query).fetchall()\n",
    "\n",
    "# Displaying the result\n",
    "for row in result:\n",
    "    print(f\"ID: {row[0]}\")\n",
    "\n",
    "# Close the database connection\n",
    "conn.close()\n"
   ]
  },
  {
   "cell_type": "markdown",
   "id": "b3e4337c",
   "metadata": {},
   "source": [
    "Explanation: </br></br>\n",
    "In 2015-01-02, the temperature was higher than the previous day (10 -> 25).</br>"
   ]
  },
  {
   "cell_type": "markdown",
   "id": "c00f61d7",
   "metadata": {},
   "source": [
    "In 2015-01-04, the temperature was higher than the previous day (20 -> 30)."
   ]
  },
  {
   "cell_type": "code",
   "execution_count": null,
   "id": "32b99432",
   "metadata": {},
   "outputs": [],
   "source": []
  }
 ],
 "metadata": {
  "kernelspec": {
   "display_name": "Python 3 (ipykernel)",
   "language": "python",
   "name": "python3"
  },
  "language_info": {
   "codemirror_mode": {
    "name": "ipython",
    "version": 3
   },
   "file_extension": ".py",
   "mimetype": "text/x-python",
   "name": "python",
   "nbconvert_exporter": "python",
   "pygments_lexer": "ipython3",
   "version": "3.11.5"
  }
 },
 "nbformat": 4,
 "nbformat_minor": 5
}
